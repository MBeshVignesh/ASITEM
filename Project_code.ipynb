{
 "cells": [
  {
   "cell_type": "code",
   "execution_count": null,
   "metadata": {
    "colab": {
     "base_uri": "https://localhost:8080/"
    },
    "id": "YPHHCUKZn89j",
    "outputId": "ea92e215-933d-47e5-f990-f01606749f91"
   },
   "outputs": [
    {
     "name": "stdout",
     "output_type": "stream",
     "text": [
      "fatal: destination path 'TF2DeepFloorplan' already exists and is not an empty directory.\n",
      "Looking in indexes: https://pypi.org/simple, https://us-python.pkg.dev/colab-wheels/public/simple/\n",
      "Requirement already satisfied: gdown in /usr/local/lib/python3.7/dist-packages (4.4.0)\n",
      "Requirement already satisfied: filelock in /usr/local/lib/python3.7/dist-packages (from gdown) (3.7.0)\n",
      "Requirement already satisfied: beautifulsoup4 in /usr/local/lib/python3.7/dist-packages (from gdown) (4.6.3)\n",
      "Requirement already satisfied: tqdm in /usr/local/lib/python3.7/dist-packages (from gdown) (4.64.0)\n",
      "Requirement already satisfied: six in /usr/local/lib/python3.7/dist-packages (from gdown) (1.15.0)\n",
      "Requirement already satisfied: requests[socks] in /usr/local/lib/python3.7/dist-packages (from gdown) (2.23.0)\n",
      "Requirement already satisfied: chardet<4,>=3.0.2 in /usr/local/lib/python3.7/dist-packages (from requests[socks]->gdown) (3.0.4)\n",
      "Requirement already satisfied: idna<3,>=2.5 in /usr/local/lib/python3.7/dist-packages (from requests[socks]->gdown) (2.10)\n",
      "Requirement already satisfied: urllib3!=1.25.0,!=1.25.1,<1.26,>=1.21.1 in /usr/local/lib/python3.7/dist-packages (from requests[socks]->gdown) (1.24.3)\n",
      "Requirement already satisfied: certifi>=2017.4.17 in /usr/local/lib/python3.7/dist-packages (from requests[socks]->gdown) (2022.5.18.1)\n",
      "Requirement already satisfied: PySocks!=1.5.7,>=1.5.6 in /usr/local/lib/python3.7/dist-packages (from requests[socks]->gdown) (1.7.1)\n",
      "Downloading...\n",
      "From: https://drive.google.com/uc?id=1czUSFvk6Z49H-zRikTc67g2HUUz4imON\n",
      "To: /content/log.zip\n",
      "100% 113M/113M [00:00<00:00, 151MB/s] \n",
      "Archive:  log.zip\n",
      "replace log/store/checkpoint? [y]es, [n]o, [A]ll, [N]one, [r]ename: "
     ]
    }
   ],
   "source": [
    "!git clone https://github.com/zcemycl/TF2DeepFloorplan.git\n",
    "!pip install gdown\n",
    "!gdown https://drive.google.com/uc?id=1czUSFvk6Z49H-zRikTc67g2HUUz4imON\n",
    "!unzip log.zip\n",
    "!rm log.zip"
   ]
  },
  {
   "cell_type": "code",
   "execution_count": null,
   "metadata": {
    "colab": {
     "base_uri": "https://localhost:8080/"
    },
    "executionInfo": {
     "elapsed": 1019,
     "status": "ok",
     "timestamp": 1654508421090,
     "user": {
      "displayName": "Vignesh Reddy",
      "userId": "01025427809419009651"
     },
     "user_tz": -330
    },
    "id": "Lpe9RNJuXzGD",
    "outputId": "19a849c5-398c-4902-ef5d-0cadfca91c2d"
   },
   "outputs": [
    {
     "name": "stdout",
     "output_type": "stream",
     "text": [
      "Traceback (most recent call last):\n",
      "  File \"TF2DeepFloorplan/tests/testNet.py\", line 2, in <module>\n",
      "    from net import *\n",
      "ModuleNotFoundError: No module named 'net'\n"
     ]
    }
   ],
   "source": [
    "!python TF2DeepFloorplan/tests/testNet.py"
   ]
  },
  {
   "cell_type": "code",
   "execution_count": null,
   "metadata": {
    "colab": {
     "base_uri": "https://localhost:8080/"
    },
    "executionInfo": {
     "elapsed": 1261,
     "status": "ok",
     "timestamp": 1654509543027,
     "user": {
      "displayName": "Vignesh Reddy",
      "userId": "01025427809419009651"
     },
     "user_tz": -330
    },
    "id": "6_FNWaQrY29u",
    "outputId": "ac1e9e9d-2dd4-4707-8530-b2713fdd00dd"
   },
   "outputs": [
    {
     "name": "stderr",
     "output_type": "stream",
     "text": [
      "E\n",
      "======================================================================\n",
      "ERROR: /root/ (unittest.loader._FailedTest)\n",
      "----------------------------------------------------------------------\n",
      "AttributeError: module '__main__' has no attribute '/root/'\n",
      "\n",
      "----------------------------------------------------------------------\n",
      "Ran 1 test in 0.002s\n",
      "\n",
      "FAILED (errors=1)\n"
     ]
    },
    {
     "data": {
      "text/plain": [
       "<unittest.main.TestProgram at 0x7f3c5e319250>"
      ]
     },
     "execution_count": 47,
     "metadata": {},
     "output_type": "execute_result"
    }
   ],
   "source": [
    "import unittest\n",
    "from net import *\n",
    "from tensorflow.keras.applications.vgg16 import preprocess_input\n",
    "\n",
    "class TestCase(unittest.TestCase):\n",
    "\n",
    "    def test_shape(self):\n",
    "        x = np.random.randn(600, 420, 3)\n",
    "        x = preprocess_input(x)\n",
    "        model = deepfloorplanModel()\n",
    "        logits_r,logits_cw = model(x)\n",
    "        self.asertEqual(logits_r.numpy().shape,(600, 420, 3))\n",
    "        self.asertEqual(logits_cw.numpy().shape,(600, 420, 3))\n",
    "\n",
    "\n",
    "\n",
    "unittest.main( exit=False)"
   ]
  },
  {
   "cell_type": "code",
   "execution_count": null,
   "metadata": {
    "id": "RCEZ1-G47oGW"
   },
   "outputs": [],
   "source": [
    "# gpu\n",
    "!pip install matplotlib numpy opencv-python pdbpp tensorboard tensorflow scipy Pillow gdown\n",
    "# cpu\n",
    "# !pip install matplotlib numpy opencv-python pdbpp tensorboard tensorflow-cpu scipy Pillow gdown"
   ]
  },
  {
   "cell_type": "markdown",
   "metadata": {
    "id": "b2ILHtKr7oGX"
   },
   "source": [
    "### Main Script"
   ]
  },
  {
   "cell_type": "code",
   "execution_count": null,
   "metadata": {
    "colab": {
     "base_uri": "https://localhost:8080/"
    },
    "executionInfo": {
     "elapsed": 8193,
     "status": "ok",
     "timestamp": 1654508278201,
     "user": {
      "displayName": "Vignesh Reddy",
      "userId": "01025427809419009651"
     },
     "user_tz": -330
    },
    "id": "C4VRom9mqBPT",
    "outputId": "ae1f2477-fae6-4201-dd45-2d2c17fdde0a"
   },
   "outputs": [
    {
     "name": "stdout",
     "output_type": "stream",
     "text": [
      "WARNING:tensorflow:From <ipython-input-7-a5954cb4c1cd>:17: is_gpu_available (from tensorflow.python.framework.test_util) is deprecated and will be removed in a future version.\n",
      "Instructions for updating:\n",
      "Use `tf.config.list_physical_devices('GPU')` instead.\n",
      "True\n"
     ]
    }
   ],
   "source": [
    "import tensorflow as tf\n",
    "import sys\n",
    "sys.path.append('./TF2DeepFloorplan/')\n",
    "from net import *\n",
    "from data import *\n",
    "import matplotlib.image as mpimg\n",
    "import matplotlib.pyplot as plt\n",
    "from argparse import Namespace\n",
    "import os\n",
    "import gc\n",
    "os.environ['TF_FORCE_GPU_ALLOW_GROWTH'] = 'true'\n",
    "sys.path.append('./TF2DeepFloorplan/utils/')\n",
    "from rgb_ind_convertor import *\n",
    "from util import *\n",
    "from legend import *\n",
    "from deploy import *\n",
    "print(tf.test.is_gpu_available())"
   ]
  },
  {
   "cell_type": "code",
   "execution_count": null,
   "metadata": {
    "id": "w9uVLn2f_trW"
   },
   "outputs": [],
   "source": [
    "import cv2\n",
    "img = cv2.imread('TF2DeepFloorplan/resources/30939153.jpg', cv2.IMREAD_UNCHANGED)\n",
    "down_points = (420,600)\n",
    "resized = cv2.resize(img,down_points,interpolation = cv2.INTER_AREA)\n",
    "status = cv2.imwrite('TF2DeepFloorplan/resources/30939153_resized.jpg',resized)\n",
    "inp = mpimg.imread('TF2DeepFloorplan/resources/30939153_resized.jpg')\n",
    "\n"
   ]
  },
  {
   "cell_type": "code",
   "execution_count": null,
   "metadata": {
    "colab": {
     "base_uri": "https://localhost:8080/"
    },
    "executionInfo": {
     "elapsed": 2551,
     "status": "ok",
     "timestamp": 1654508901984,
     "user": {
      "displayName": "Vignesh Reddy",
      "userId": "01025427809419009651"
     },
     "user_tz": -330
    },
    "id": "xzqbdPC0uJNc",
    "outputId": "7f7a4fa7-7105-46bf-efa3-fe2e515ccc41"
   },
   "outputs": [
    {
     "name": "stderr",
     "output_type": "stream",
     "text": [
      "./TF2DeepFloorplan/utils/util.py:30: UserWarning: ignoring size because footprint is set\n",
      "  footprint=el))\n"
     ]
    },
    {
     "name": "stdout",
     "output_type": "stream",
     "text": [
      "(600, 420, 3) (600, 420, 3)\n"
     ]
    }
   ],
   "source": [
    "args = Namespace(image='TF2DeepFloorplan/resources/30939153_resized.jpg',\n",
    "        weight='./log/store/G',loadmethod='log',\n",
    "        postprocess=True,colorize=True,\n",
    "        save=None)\n",
    "result = main(args)"
   ]
  },
  {
   "cell_type": "code",
   "execution_count": null,
   "metadata": {
    "id": "VHY8VffMGI37"
   },
   "outputs": [],
   "source": [
    "result[0]"
   ]
  },
  {
   "cell_type": "code",
   "execution_count": null,
   "metadata": {
    "colab": {
     "base_uri": "https://localhost:8080/",
     "height": 252
    },
    "executionInfo": {
     "elapsed": 2567,
     "status": "ok",
     "timestamp": 1654508337040,
     "user": {
      "displayName": "Vignesh Reddy",
      "userId": "01025427809419009651"
     },
     "user_tz": -330
    },
    "id": "2xVIt5LEusqf",
    "outputId": "4c1c574c-342b-43f3-b93c-c5200922b42a"
   },
   "outputs": [
    {
     "data": {
      "image/png": "[encoded data removed]",
      "text/plain": [
       "<Figure size 432x288 with 2 Axes>"
      ]
     },
     "metadata": {},
     "output_type": "display_data"
    }
   ],
   "source": [
    "plt.subplot(1,2,1)\n",
    "plt.imshow(inp); plt.xticks([]); plt.yticks([]);\n",
    "plt.subplot(1,2,2)\n",
    "plt.imshow(result); plt.xticks([]); plt.yticks([]);"
   ]
  },
  {
   "cell_type": "code",
   "execution_count": null,
   "metadata": {
    "colab": {
     "base_uri": "https://localhost:8080/",
     "height": 269
    },
    "executionInfo": {
     "elapsed": 439,
     "status": "ok",
     "timestamp": 1654166363901,
     "user": {
      "displayName": "Vignesh Reddy",
      "userId": "01025427809419009651"
     },
     "user_tz": -330
    },
    "id": "ZtfTSVOCQMR3",
    "outputId": "62200ce3-60bd-4047-f15e-5d7d48d5c8a5"
   },
   "outputs": [
    {
     "data": {
      "text/plain": [
       "([], <a list of 0 Text major ticklabel objects>)"
      ]
     },
     "execution_count": 8,
     "metadata": {},
     "output_type": "execute_result"
    },
    {
     "data": {
      "image/png": "[encoded data removed]",
      "text/plain": [
       "<Figure size 432x288 with 1 Axes>"
      ]
     },
     "metadata": {},
     "output_type": "display_data"
    }
   ],
   "source": [
    "plt.imshow(result)\n",
    "plt.xticks([]); plt.yticks([])"
   ]
  },
  {
   "cell_type": "code",
   "execution_count": null,
   "metadata": {
    "id": "lwSMGpeFQidd"
   },
   "outputs": [],
   "source": [
    "output=cv2.imwrite(r\"TF2DeepFloorplan/resources/OPT.jpg\",result)"
   ]
  },
  {
   "cell_type": "markdown",
   "metadata": {
    "id": "Jto5H5cXypOD"
   },
   "source": [
    "## Breakdown of postprocessing (step by step)"
   ]
  },
  {
   "cell_type": "code",
   "execution_count": null,
   "metadata": {
    "id": "57rg5h7XywwU"
   },
   "outputs": [],
   "source": [
    "model,img,shp = init(args)\n",
    "logits_cw,logits_r = predict(model,img,shp)"
   ]
  },
  {
   "cell_type": "code",
   "execution_count": null,
   "metadata": {
    "id": "fsGnlDyQ__9L"
   },
   "outputs": [],
   "source": [
    "opt = cw_color+r_color"
   ]
  },
  {
   "cell_type": "code",
   "execution_count": null,
   "metadata": {
    "colab": {
     "base_uri": "https://localhost:8080/",
     "height": 187
    },
    "executionInfo": {
     "elapsed": 8398,
     "status": "ok",
     "timestamp": 1654166463886,
     "user": {
      "displayName": "Vignesh Reddy",
      "userId": "01025427809419009651"
     },
     "user_tz": -330
    },
    "id": "2aUCqpT6zPmv",
    "outputId": "11c16262-b6db-4fc1-f19d-dcbf01b9ed86"
   },
   "outputs": [
    {
     "data": {
      "image/png": "[encoded data removed]",
      "text/plain": [
       "<Figure size 432x288 with 2 Axes>"
      ]
     },
     "metadata": {},
     "output_type": "display_data"
    }
   ],
   "source": [
    "model,img,shp = init(args)\n",
    "logits_cw,logits_r = predict(model,img,shp)\n",
    "\n",
    "r = convert_one_hot_to_image(logits_r)[0].numpy()\n",
    "cw = convert_one_hot_to_image(logits_cw)[0].numpy()\n",
    "plt.subplot(1,2,1)\n",
    "plt.imshow(r.squeeze()); plt.xticks([]); plt.yticks([]);\n",
    "plt.subplot(1,2,2)\n",
    "plt.imshow(cw.squeeze()); plt.xticks([]); plt.yticks([]);"
   ]
  },
  {
   "cell_type": "code",
   "execution_count": null,
   "metadata": {
    "colab": {
     "base_uri": "https://localhost:8080/",
     "height": 187
    },
    "executionInfo": {
     "elapsed": 471,
     "status": "ok",
     "timestamp": 1654166534711,
     "user": {
      "displayName": "Vignesh Reddy",
      "userId": "01025427809419009651"
     },
     "user_tz": -330
    },
    "id": "UYf4WVVCzgqj",
    "outputId": "fd7635aa-0fa7-49c6-e800-ced7f241a2ab"
   },
   "outputs": [
    {
     "data": {
      "image/png": "[encoded data removed]",
      "text/plain": [
       "<Figure size 432x288 with 2 Axes>"
      ]
     },
     "metadata": {},
     "output_type": "display_data"
    }
   ],
   "source": [
    "r_color,cw_color = colorize(r.squeeze(),cw.squeeze())\n",
    "plt.subplot(1,2,1)\n",
    "plt.imshow(r_color); plt.xticks([]); plt.yticks([]);\n",
    "plt.subplot(1,2,2)\n",
    "plt.imshow(cw_color); plt.xticks([]); plt.yticks([]);"
   ]
  },
  {
   "cell_type": "code",
   "execution_count": null,
   "metadata": {
    "colab": {
     "base_uri": "https://localhost:8080/",
     "height": 252
    },
    "executionInfo": {
     "elapsed": 565,
     "status": "ok",
     "timestamp": 1654168921222,
     "user": {
      "displayName": "Vignesh Reddy",
      "userId": "01025427809419009651"
     },
     "user_tz": -330
    },
    "id": "18UYo3rz0918",
    "outputId": "321c5a73-4dd6-48ab-8826-632f897614ac"
   },
   "outputs": [
    {
     "data": {
      "image/png": "[encoded data removed]",
      "text/plain": [
       "<Figure size 432x288 with 1 Axes>"
      ]
     },
     "metadata": {},
     "output_type": "display_data"
    }
   ],
   "source": [
    "plt.imshow(cw_color); plt.xticks([]); plt.yticks([]);"
   ]
  },
  {
   "cell_type": "code",
   "execution_count": null,
   "metadata": {
    "id": "10eBhVkVKSat"
   },
   "outputs": [],
   "source": [
    "output=cv2.imwrite(r\"TF2DeepFloorplan/resources/2d_opt.jpg\",cw_color)"
   ]
  },
  {
   "cell_type": "code",
   "execution_count": null,
   "metadata": {
    "colab": {
     "base_uri": "https://localhost:8080/",
     "height": 363
    },
    "executionInfo": {
     "elapsed": 510,
     "status": "error",
     "timestamp": 1654170959519,
     "user": {
      "displayName": "Vignesh Reddy",
      "userId": "01025427809419009651"
     },
     "user_tz": -330
    },
    "id": "uxcp8mo7OdcU",
    "outputId": "2af3e375-bbed-4888-c212-dd297c3fac4e"
   },
   "outputs": [],
   "source": [
    "import sklearn.metrics\n",
    "import numpy\n",
    "\n",
    "y_true = cw_color\n",
    "y_pred = opt\n",
    "r = sklearn.metrics.multilabel_confusion_matrix(y_true, y_pred)\n",
    "print(r)"
   ]
  },
  {
   "cell_type": "code",
   "execution_count": null,
   "metadata": {
    "colab": {
     "base_uri": "https://localhost:8080/"
    },
    "executionInfo": {
     "elapsed": 418,
     "status": "ok",
     "timestamp": 1654169099920,
     "user": {
      "displayName": "Vignesh Reddy",
      "userId": "01025427809419009651"
     },
     "user_tz": -330
    },
    "id": "Q1xeGJ8tuuVQ",
    "outputId": "d54ac4d1-6f58-447c-8e0a-ef28208d507a"
   },
   "outputs": [
    {
     "name": "stdout",
     "output_type": "stream",
     "text": [
      "              precision    recall  f1-score   support\n",
      "\n",
      "           0       1.00      1.00      1.00         3\n",
      "\n",
      "    accuracy                           1.00         3\n",
      "   macro avg       1.00      1.00      1.00         3\n",
      "weighted avg       1.00      1.00      1.00         3\n",
      "\n"
     ]
    }
   ],
   "source": [
    "print(sklearn.metrics.classification_report(y_true,y_pred))"
   ]
  },
  {
   "cell_type": "code",
   "execution_count": null,
   "metadata": {
    "id": "0k07FCdsuuR_"
   },
   "outputs": [],
   "source": [
    "y_predicted = model.predict(result, batch_size=64)"
   ]
  },
  {
   "cell_type": "code",
   "execution_count": null,
   "metadata": {
    "colab": {
     "base_uri": "https://localhost:8080/"
    },
    "executionInfo": {
     "elapsed": 677,
     "status": "ok",
     "timestamp": 1654170669680,
     "user": {
      "displayName": "Vignesh Reddy",
      "userId": "01025427809419009651"
     },
     "user_tz": -330
    },
    "id": "fVQsB0HOuuLV",
    "outputId": "5cfeeb57-46b8-4910-8b04-1062e0ee9e21"
   },
   "outputs": [
    {
     "data": {
      "text/plain": [
       "512"
      ]
     },
     "execution_count": 122,
     "metadata": {},
     "output_type": "execute_result"
    }
   ],
   "source": [
    "len(opt)"
   ]
  },
  {
   "cell_type": "code",
   "execution_count": null,
   "metadata": {
    "colab": {
     "base_uri": "https://localhost:8080/",
     "height": 252
    },
    "executionInfo": {
     "elapsed": 441,
     "status": "ok",
     "timestamp": 1654152232663,
     "user": {
      "displayName": "Vignesh Reddy",
      "userId": "01025427809419009651"
     },
     "user_tz": -330
    },
    "id": "dydb1kWl13hL",
    "outputId": "f593dc4d-ae74-410d-fe49-d298f10b058b"
   },
   "outputs": [
    {
     "data": {
      "image/png": "[encoded data removed]",
      "text/plain": [
       "<Figure size 432x288 with 1 Axes>"
      ]
     },
     "metadata": {},
     "output_type": "display_data"
    }
   ],
   "source": [
    "over255 = lambda x: [p/255 for p in x]\n",
    "colors2 = [over255(rgb) for rgb in list(floorplan_fuse_map.values())]\n",
    "colors = [\"background\", \"closet\", \"bathroom\",\n",
    "          \"living room\\nkitchen\\ndining room\",\n",
    "          \"bedroom\",\"hall\",\"balcony\",\"not used\",\"not used\",\n",
    "          \"door/window\",\"wall\"]\n",
    "f = lambda m,c: plt.plot([],[],marker=m, color=c, ls=\"none\")[0]\n",
    "handles = [f(\"s\", colors2[i]) for i in range(len(colors))]\n",
    "labels = colors\n",
    "legend = plt.legend(handles, labels, loc=3,framealpha=1, frameon=True)\n",
    "\n",
    "fig  = legend.figure\n",
    "fig.canvas.draw()\n",
    "plt.xticks([]); plt.yticks([]);\n"
   ]
  },
  {
   "cell_type": "code",
   "execution_count": null,
   "metadata": {
    "colab": {
     "base_uri": "https://localhost:8080/"
    },
    "executionInfo": {
     "elapsed": 2864,
     "status": "ok",
     "timestamp": 1654152238935,
     "user": {
      "displayName": "Vignesh Reddy",
      "userId": "01025427809419009651"
     },
     "user_tz": -330
    },
    "id": "iy8nx0WZ2QGS",
    "outputId": "28f74664-715e-42f0-acf6-3ce2184544ed"
   },
   "outputs": [
    {
     "name": "stdout",
     "output_type": "stream",
     "text": [
      "Looking in indexes: https://pypi.org/simple, https://us-python.pkg.dev/colab-wheels/public/simple/\n",
      "Collecting numpy-stl\n",
      "  Downloading numpy_stl-2.17.1-py3-none-any.whl (18 kB)\n",
      "Requirement already satisfied: python-utils>=1.6.2 in /usr/local/lib/python3.7/dist-packages (from numpy-stl) (3.2.3)\n",
      "Requirement already satisfied: numpy in /usr/local/lib/python3.7/dist-packages (from numpy-stl) (1.18.5)\n",
      "Installing collected packages: numpy-stl\n",
      "Successfully installed numpy-stl-2.17.1\n"
     ]
    }
   ],
   "source": [
    "!pip3 install numpy-stl"
   ]
  },
  {
   "cell_type": "code",
   "execution_count": null,
   "metadata": {
    "colab": {
     "base_uri": "https://localhost:8080/"
    },
    "id": "ZVkawl-SX4IV",
    "outputId": "327ad20e-c2bd-47f3-8a17-bde26a564d05"
   },
   "outputs": [
    {
     "name": "stdout",
     "output_type": "stream",
     "text": [
      "[-1 -1 -1]\n",
      "[-1  1 -1]\n",
      "[ 1 -1 -1]\n",
      "[ 1 -1 -1]\n",
      "[-1  1 -1]\n",
      "[ 1  1 -1]\n",
      "[-1 -1 -1]\n",
      "[-1 -1  1]\n",
      "[-1  1  1]\n",
      "[-1 -1 -1]\n",
      "[-1  1  1]\n",
      "[-1  1 -1]\n",
      "[-1 -1  1]\n",
      "[ 1 -1  1]\n",
      "[1 1 1]\n",
      "[-1 -1  1]\n",
      "[1 1 1]\n",
      "[-1  1  1]\n",
      "[ 1 -1  1]\n",
      "[ 1 -1 -1]\n",
      "[ 1  1 -1]\n",
      "[ 1 -1  1]\n",
      "[ 1  1 -1]\n",
      "[1 1 1]\n",
      "[ 1  1 -1]\n",
      "[-1  1 -1]\n",
      "[1 1 1]\n",
      "[-1  1 -1]\n",
      "[-1  1  1]\n",
      "[1 1 1]\n",
      "[-1 -1 -1]\n",
      "[ 1 -1 -1]\n",
      "[ 1 -1  1]\n",
      "[-1 -1 -1]\n",
      "[ 1 -1  1]\n",
      "[-1 -1  1]\n"
     ]
    }
   ],
   "source": [
    "import numpy as np\n",
    "from stl import mesh\n",
    "\n",
    "# Define the 8 vertices of the cube\n",
    "vertices = np.array([\\\n",
    "    [-1, -1, -1],\n",
    "    [+1, -1, -1],\n",
    "    [+1, +1, -1],\n",
    "    [-1, +1, -1],\n",
    "    [-1, -1, +1],\n",
    "    [+1, -1, +1],\n",
    "    [+1, +1, +1],\n",
    "    [-1, +1, +1]])\n",
    "# Define the 12 triangles composing the cube\n",
    "faces = np.array([\\\n",
    "    [0,3,1],\n",
    "    [1,3,2],\n",
    "    [0,4,7],\n",
    "    [0,7,3],\n",
    "    [4,5,6],\n",
    "    [4,6,7],\n",
    "    [5,1,2],\n",
    "    [5,2,6],\n",
    "    [2,3,6],\n",
    "    [3,7,6],\n",
    "    [0,1,5],\n",
    "    [0,5,4]])\n",
    "\n",
    "# Create the mesh\n",
    "cube = mesh.Mesh(np.zeros(faces.shape[0], dtype=mesh.Mesh.dtype))\n",
    "for i, f in enumerate(faces):\n",
    "    for j in range(3):\n",
    "        print(vertices[f[j],:])\n",
    "        cube.vectors[i][j] = vertices[f[j]]\n",
    "\n",
    "# Write the mesh to file \"cube.stl\"\n",
    "cube.save('cube.stl')"
   ]
  },
  {
   "cell_type": "code",
   "execution_count": null,
   "metadata": {
    "id": "iHzdB8jgYFpo"
   },
   "outputs": [],
   "source": [
    "from PIL import Image\n",
    "import matplotlib.pyplot as plt\n",
    "im = Image.open(\"/content/sample_data/CASE2_2.png\")\n"
   ]
  },
  {
   "cell_type": "code",
   "execution_count": null,
   "metadata": {
    "colab": {
     "base_uri": "https://localhost:8080/"
    },
    "id": "o-2jmboMYQNY",
    "outputId": "bfa2365c-0fea-473a-b57b-29cf6643fbd1"
   },
   "outputs": [
    {
     "name": "stdout",
     "output_type": "stream",
     "text": [
      "[[255 255 255 ... 255 255 255]\n",
      " [255 255 255 ... 255 255 255]\n",
      " [255 255 255 ... 255 255 255]\n",
      " ...\n",
      " [255 255 255 ... 255 255 255]\n",
      " [255 255 255 ... 255 255 255]\n",
      " [255 255 255 ... 255 255 255]]\n",
      "number of faces: 57122\n",
      "<stl.mesh.Mesh object at 0x7f6463e1b850>\n"
     ]
    }
   ],
   "source": [
    "grey_img = Image.open('/content/sample_data/CASE2_2.png').convert('L')\n",
    "\n",
    "max_size=(10000,10000)\n",
    "max_height=10\n",
    "min_height=0\n",
    "\n",
    "#height=0 for minPix\n",
    "#height=maxHeight for maxPIx\n",
    "\n",
    "grey_img.thumbnail(max_size)\n",
    "imageNp = np.array(grey_img)\n",
    "maxPix=imageNp.max()\n",
    "minPix=imageNp.min()\n",
    "\n",
    "\n",
    "\n",
    "print(imageNp)\n",
    "(ncols,nrows)=grey_img.size\n",
    "\n",
    "vertices=np.zeros((nrows,ncols,3))\n",
    "\n",
    "for x in range(0, ncols):\n",
    "  for y in range(0, nrows):\n",
    "    pixelIntensity = imageNp[y][x]\n",
    "    z = (pixelIntensity * max_height) / maxPix\n",
    "    #print(imageNp[y][x])\n",
    "    vertices[y][x]=(y,x,z)\n",
    "\n",
    "faces=[]\n",
    "\n",
    "for x in range(0, ncols - 1):\n",
    "  for y in range(0, nrows - 1):\n",
    "    # create face 1\n",
    "    vertice1 = vertices[y][x]\n",
    "    vertice2 = vertices[y+1][x]\n",
    "    vertice3 = vertices[y+1][x+1]\n",
    "    face1 = np.array([vertice1,vertice2,vertice3])\n",
    "\n",
    "    # create face 2\n",
    "    vertice1 = vertices[y][x]\n",
    "    vertice2 = vertices[y][x+1]\n",
    "    vertice3 = vertices[y+1][x+1]\n",
    "\n",
    "    face2 = np.array([vertice1,vertice2,vertice3])\n",
    "\n",
    "    faces.append(face1)\n",
    "    faces.append(face2)\n",
    "\n",
    "print(f\"number of faces: {len(faces)}\")\n",
    "facesNp = np.array(faces)\n",
    "# Create the mesh\n",
    "surface = mesh.Mesh(np.zeros(facesNp.shape[0], dtype=mesh.Mesh.dtype))\n",
    "for i, f in enumerate(faces):\n",
    "    for j in range(3):\n",
    "        surface.vectors[i][j] = facesNp[i][j]\n",
    "# Write the mesh to file \"cube.stl\"\n",
    "surface.save('CASE2_10K.stl')\n",
    "print(surface)"
   ]
  }
 ],
 "metadata": {
  "accelerator": "GPU",
  "colab": {
   "provenance": []
  },
  "kernelspec": {
   "display_name": "Python 3",
   "language": "python",
   "name": "python3"
  },
  "language_info": {
   "codemirror_mode": {
    "name": "ipython",
    "version": 3
   },
   "file_extension": ".py",
   "mimetype": "text/x-python",
   "name": "python",
   "nbconvert_exporter": "python",
   "pygments_lexer": "ipython3",
   "version": "3.7.4"
  }
 },
 "nbformat": 4,
 "nbformat_minor": 0
}
